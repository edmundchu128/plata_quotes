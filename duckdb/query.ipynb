{
 "cells": [
  {
   "cell_type": "code",
   "execution_count": 9,
   "metadata": {},
   "outputs": [],
   "source": [
    "import duckdb\n",
    "con = duckdb.connect(\"dev.db\")\n",
    "con.sql(\"ATTACH DATABASE 'raw.db' as raw\")"
   ]
  },
  {
   "cell_type": "code",
   "execution_count": null,
   "metadata": {},
   "outputs": [],
   "source": [
    "\n",
    "con.sql(\"SELECT * FROM main_staging.stg__quotes_quotes;\").show()\n"
   ]
  },
  {
   "cell_type": "code",
   "execution_count": null,
   "metadata": {},
   "outputs": [],
   "source": [
    "\n",
    "con.sql(\"\"\" select\n",
    "        customer_ref,\n",
    "        brand,\n",
    "        first_value(application_ref IGNORE NULLS) over (partition by customer_ref, brand order by case when type = 'New' then 1 else 2 end, time asc) as first_application_ref,\n",
    "        first_value(loan_ref IGNORE NULLS) over (partition by customer_ref, brand order by case when type = 'New' then 1 else 2 end, time asc) as first_loan_ref\n",
    "    from main_transform.trans__quotes\n",
    "    -- qualify row_number() over (partition by customer_ref, brand order by case when type = 'New' then 1 else 2 end, time asc) =1\"\"\").show()\n"
   ]
  }
 ],
 "metadata": {
  "kernelspec": {
   "display_name": ".venv",
   "language": "python",
   "name": "python3"
  },
  "language_info": {
   "codemirror_mode": {
    "name": "ipython",
    "version": 3
   },
   "file_extension": ".py",
   "mimetype": "text/x-python",
   "name": "python",
   "nbconvert_exporter": "python",
   "pygments_lexer": "ipython3",
   "version": "3.12.2"
  }
 },
 "nbformat": 4,
 "nbformat_minor": 2
}
